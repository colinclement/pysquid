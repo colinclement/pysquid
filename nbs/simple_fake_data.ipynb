{
 "cells": [
  {
   "cell_type": "code",
   "execution_count": 1,
   "metadata": {
    "collapsed": false
   },
   "outputs": [],
   "source": [
    "import numpy as np\n",
    "import scipy as sp\n",
    "import matplotlib.pyplot as plt\n",
    "import matplotlib as mpl\n",
    "\n",
    "%matplotlib inline"
   ]
  },
  {
   "cell_type": "code",
   "execution_count": 2,
   "metadata": {
    "collapsed": false
   },
   "outputs": [],
   "source": [
    "from pysquid.rnet import ResistorNetworkModel\n",
    "from pysquid.model import FluxModelTVPrior\n",
    "from pysquid.linearModel import *\n",
    "from pysquid.kernels.magpsf import GaussianKernel\n",
    "from pysquid.util.helpers import *\n",
    "from pysquid.tests.admmTests import LinearModelTV_ADMM_NoFFT"
   ]
  },
  {
   "cell_type": "code",
   "execution_count": 3,
   "metadata": {
    "collapsed": false
   },
   "outputs": [],
   "source": [
    "pdict = {'psf_params': np.array([1., 2., 2.]), 'sigma': np.array([.0005])}\n",
    "gshape = np.array([14, 14])\n",
    "Ly_pad, Lx_pad = gshape\n",
    "padding = np.array([2,2])\n",
    "py, px = padding\n",
    "phishape = gshape - 2*padding\n",
    "Ly, Lx = phishape"
   ]
  },
  {
   "cell_type": "code",
   "execution_count": 4,
   "metadata": {
    "collapsed": false
   },
   "outputs": [],
   "source": [
    "myg = np.zeros(phishape)\n",
    "myg[4:-4, 4:-4] = 1.\n",
    "#myg[23:-23,23:-23] = 1.\n",
    "myg_pad = np.zeros(gshape)\n",
    "myg_pad[py:py+Ly, px:px+Lx] = myg\n",
    "mykernel = GaussianKernel(myg.shape, pdict['psf_params'], _fftw_flags=['FFTW_MEASURE'], cutoff=True)\n",
    "phi = mykernel.applyM(myg).real\n",
    "phi_noise = phi + pdict['sigma']*np.random.randn(*myg.shape)"
   ]
  },
  {
   "cell_type": "code",
   "execution_count": 5,
   "metadata": {
    "collapsed": false
   },
   "outputs": [
    {
     "data": {
      "text/plain": [
       "<matplotlib.image.AxesImage at 0x7faebe3fba10>"
      ]
     },
     "execution_count": 5,
     "metadata": {},
     "output_type": "execute_result"
    },
    {
     "data": {
      "image/png": "[encoded data removed]",
      "text/plain": [
       "<matplotlib.figure.Figure at 0x7faec3ee2ed0>"
      ]
     },
     "metadata": {},
     "output_type": "display_data"
    }
   ],
   "source": [
    "fig, axes = plt.subplots(nrows=1,ncols=2, figsize=(10,4))\n",
    "\n",
    "axes[0].matshow(myg)\n",
    "axes[1].matshow(phi_noise)"
   ]
  },
  {
   "cell_type": "code",
   "execution_count": 6,
   "metadata": {
    "collapsed": true
   },
   "outputs": [],
   "source": [
    "mu_reg = 20"
   ]
  },
  {
   "cell_type": "code",
   "execution_count": 7,
   "metadata": {
    "collapsed": false
   },
   "outputs": [
    {
     "name": "stdout",
     "output_type": "stream",
     "text": [
      "True data NLL = -350.055496797\n"
     ]
    }
   ],
   "source": [
    "model = FluxModelTVPrior(phi_noise, pdict, mu_reg = mu_reg, padding = padding,)\n",
    "print(\"True data NLL = {}\".format(model.computeNLL(myg_pad.ravel(), ['gfieldflat'])))"
   ]
  },
  {
   "cell_type": "code",
   "execution_count": 8,
   "metadata": {
    "collapsed": false
   },
   "outputs": [],
   "source": [
    "from pysquid.infercurrents.deconvolve import TVDeconvolver"
   ]
  },
  {
   "cell_type": "code",
   "execution_count": 9,
   "metadata": {
    "collapsed": true
   },
   "outputs": [],
   "source": [
    "def testNLL(gfield, phi):\n",
    "    mphi = model.kernel.applyM(gfield.reshape(model.Ly_pad,-1)).real\n",
    "    res = phi.ravel() - mphi.ravel()\n",
    "    return res.dot(res)/2*model.sigma**2, admm.mu_reg*admm.TV(gfield).sum()\n",
    "\n",
    "def showNLLComponents(gfield, phi):\n",
    "    fid, tv = testNLL(gfield, phi)\n",
    "    print(\"Fidelity contribution = {}, TV contribution = {}\".format(fid, tv))"
   ]
  },
  {
   "cell_type": "code",
   "execution_count": 163,
   "metadata": {
    "collapsed": false
   },
   "outputs": [],
   "source": [
    "lmod = LinearModelTV_ADMM\n",
    "#lmod = LinearModelTV_ADMM_NoFFT\n",
    "admm = lmod(model, rho = 1E-2, mu_reg = mu_reg)\n",
    "admm_fft = LinearModelTV_ADMM(model, rho = 1E-2, mu_reg = mu_reg)\n",
    "admm.sigma = model.sigma"
   ]
  },
  {
   "cell_type": "code",
   "execution_count": 164,
   "metadata": {
    "collapsed": true
   },
   "outputs": [
    {
     "name": "stdout",
     "output_type": "stream",
     "text": [
      "Fidelity contribution = 2.06608471093e-11, TV contribution = 809.345949356\n",
      "Initial NLL = 471.723110472\n",
      "\tItn 0: NLL = 3.384410e+02, r = 1.691e-02,  s = 2.255e-07, eps_p = 4.283e-15, eps_d = 1.000e-15\n",
      "\tItn 1: NLL = 2.906224e+02, r = 5.554e-08,  s = 2.071e-07, eps_p = 4.270e-15, eps_d = 1.000e-15\n",
      "\tItn 2: NLL = 2.303620e+02, r = 6.962e-08,  s = 1.584e-07, eps_p = 4.264e-15, eps_d = 1.000e-15\n",
      "\tItn 3: NLL = 2.211533e+02, r = 1.031e-09,  s = 1.551e-07, eps_p = 4.257e-15, eps_d = 1.000e-15\n",
      "\t\tRestarted 1.85188647135e-06 > 0.999 * 1.14377704046e-06\n",
      "\tItn 4: NLL = 2.136435e+02, r = 6.704e-10,  s = 1.542e-07, eps_p = 4.245e-15, eps_d = 1.000e-15\n",
      "\t\tRestarted 3.34065600797e-06 > 0.999 * 1.14492196242e-06\n",
      "\tItn 5: NLL = 2.110379e+02, r = 4.886e-09,  s = 1.537e-07, eps_p = 4.240e-15, eps_d = 1.000e-15\n",
      "\t\tRestarted 5.69297915909e-06 > 0.999 * 1.14606803045e-06\n",
      "\tItn 6: NLL = 1.974196e+02, r = 3.500e-08,  s = 1.525e-07, eps_p = 4.212e-15, eps_d = 1.000e-15\n",
      "\t\tRestarted 5.578352626e-06 > 0.999 * 1.1472152457e-06\n",
      "\tItn 7: NLL = 1.954169e+02, r = 1.385e-07,  s = 1.524e-07, eps_p = 4.207e-15, eps_d = 1.000e-15\n",
      "\t\tRestarted 5.02312304072e-06 > 0.999 * 1.14836360931e-06\n",
      "\tItn 8: NLL = 1.843729e+02, r = 2.312e-07,  s = 1.522e-07, eps_p = 4.179e-15, eps_d = 1.000e-15\n",
      "\t\tRestarted 4.95732309706e-06 > 0.999 * 1.14951312243e-06\n",
      "\tItn 9: NLL = 1.826722e+02, r = 2.070e-07,  s = 1.522e-07, eps_p = 4.175e-15, eps_d = 1.000e-15\n",
      "\t\tRestarted 4.62562897429e-06 > 0.999 * 1.15066378621e-06\n",
      "\tItn 10: NLL = 1.731316e+02, r = 9.042e-08,  s = 1.522e-07, eps_p = 4.147e-15, eps_d = 1.000e-15\n",
      "\t\tRestarted 4.58468200274e-06 > 0.999 * 1.15181560182e-06\n",
      "\tItn 11: NLL = 1.716128e+02, r = 8.734e-08,  s = 1.522e-07, eps_p = 4.142e-15, eps_d = 1.000e-15\n",
      "\t\tRestarted 4.3715490869e-06 > 0.999 * 1.15296857039e-06\n",
      "\tItn 12: NLL = 1.629964e+02, r = 5.586e-08,  s = 1.520e-07, eps_p = 4.115e-15, eps_d = 1.000e-15\n",
      "\t\tRestarted 4.34457220118e-06 > 0.999 * 1.15412269308e-06\n",
      "\tItn 13: NLL = 1.615936e+02, r = 5.277e-08,  s = 1.520e-07, eps_p = 4.111e-15, eps_d = 1.000e-15\n",
      "\t\tRestarted 4.20365932717e-06 > 0.999 * 1.15527797105e-06\n",
      "\tItn 14: NLL = 1.535851e+02, r = 4.537e-08,  s = 1.519e-07, eps_p = 4.084e-15, eps_d = 1.000e-15\n",
      "\t\tRestarted 4.18482949573e-06 > 0.999 * 1.15643440546e-06\n",
      "\tItn 15: NLL = 1.522603e+02, r = 4.573e-08,  s = 1.518e-07, eps_p = 4.079e-15, eps_d = 1.000e-15\n",
      "\t\tRestarted 4.08622649834e-06 > 0.999 * 1.15759199745e-06\n",
      "\tItn 16: NLL = 1.446563e+02, r = 5.439e-08,  s = 1.516e-07, eps_p = 4.053e-15, eps_d = 1.000e-15\n",
      "\t\tRestarted 4.07298105902e-06 > 0.999 * 1.1587507482e-06\n",
      "\tItn 17: NLL = 1.433857e+02, r = 5.650e-08,  s = 1.516e-07, eps_p = 4.048e-15, eps_d = 1.000e-15\n",
      "\t\tRestarted 4.0029323883e-06 > 0.999 * 1.15991065886e-06\n",
      "\tItn 18: NLL = 1.360656e+02, r = 7.323e-08,  s = 1.514e-07, eps_p = 4.022e-15, eps_d = 1.000e-15\n",
      "\t\tRestarted 3.99324712764e-06 > 0.999 * 1.16107173059e-06\n",
      "\tItn 19: NLL = 1.348330e+02, r = 7.617e-08,  s = 1.513e-07, eps_p = 4.018e-15, eps_d = 1.000e-15\n",
      "\t\tRestarted 3.94145155885e-06 > 0.999 * 1.16223396456e-06\n",
      "\tItn 20: NLL = 1.277138e+02, r = 9.601e-08,  s = 1.511e-07, eps_p = 3.992e-15, eps_d = 1.000e-15\n",
      "\t\tRestarted 3.93410427342e-06 > 0.999 * 1.16339736192e-06\n",
      "\tItn 21: NLL = 1.265091e+02, r = 9.929e-08,  s = 1.511e-07, eps_p = 3.988e-15, eps_d = 1.000e-15\n",
      "\t\tRestarted 3.89441800198e-06 > 0.999 * 1.16456192384e-06\n",
      "\tItn 22: NLL = 1.195389e+02, r = 1.172e-07,  s = 1.509e-07, eps_p = 3.962e-15, eps_d = 1.000e-15\n",
      "\t\tRestarted 3.88865761063e-06 > 0.999 * 1.16572765149e-06\n",
      "\tItn 23: NLL = 1.183553e+02, r = 1.197e-07,  s = 1.509e-07, eps_p = 3.958e-15, eps_d = 1.000e-15\n",
      "\t\tRestarted 3.85729811348e-06 > 0.999 * 1.16689454604e-06\n",
      "\tItn 24: NLL = 1.114990e+02, r = 1.298e-07,  s = 1.507e-07, eps_p = 3.932e-15, eps_d = 1.000e-15\n",
      "\t\tRestarted 3.85265550658e-06 > 0.999 * 1.16806260865e-06\n",
      "\tItn 25: NLL = 1.103319e+02, r = 1.308e-07,  s = 1.507e-07, eps_p = 3.928e-15, eps_d = 1.000e-15\n",
      "\t\tRestarted 3.82730783017e-06 > 0.999 * 1.16923184049e-06\n",
      "\tItn 26: NLL = 1.035650e+02, r = 1.304e-07,  s = 1.505e-07, eps_p = 3.903e-15, eps_d = 1.000e-15\n",
      "\t\tRestarted 3.82352690083e-06 > 0.999 * 1.17040224273e-06\n",
      "\tItn 27: NLL = 1.024111e+02, r = 1.297e-07,  s = 1.505e-07, eps_p = 3.899e-15, eps_d = 1.000e-15\n",
      "\t\tRestarted 3.80400778741e-06 > 0.999 * 1.17157381655e-06\n",
      "\tItn 28: NLL = 9.571601e+01, r = 1.197e-07,  s = 1.504e-07, eps_p = 3.874e-15, eps_d = 1.000e-15\n",
      "\t\tRestarted 3.80136870841e-06 > 0.999 * 1.17274656311e-06\n",
      "\tItn 29: NLL = 9.457287e+01, r = 1.178e-07,  s = 1.504e-07, eps_p = 3.870e-15, eps_d = 1.000e-15\n",
      "\t\tRestarted 3.78408938406e-06 > 0.999 * 1.17392048359e-06\n",
      "\tItn 30: NLL = 8.793422e+01, r = 1.040e-07,  s = 1.502e-07, eps_p = 3.846e-15, eps_d = 1.000e-15\n",
      "\t\tRestarted 3.78101204153e-06 > 0.999 * 1.17509557917e-06\n",
      "\tItn 31: NLL = 8.679905e+01, r = 1.021e-07,  s = 1.502e-07, eps_p = 3.841e-15, eps_d = 1.000e-15\n",
      "\t\tRestarted 3.76318016708e-06 > 0.999 * 1.17627185102e-06\n",
      "\tItn 32: NLL = 8.021137e+01, r = 8.941e-08,  s = 1.500e-07, eps_p = 3.817e-15, eps_d = 1.000e-15\n",
      "\t\tRestarted 3.76026115579e-06 > 0.999 * 1.17744930033e-06\n",
      "\tItn 33: NLL = 7.908530e+01, r = 8.761e-08,  s = 1.499e-07, eps_p = 3.813e-15, eps_d = 1.000e-15\n",
      "\t\tRestarted 3.74350034351e-06 > 0.999 * 1.17862792825e-06\n",
      "\tItn 34: NLL = 7.254701e+01, r = 7.731e-08,  s = 1.497e-07, eps_p = 3.789e-15, eps_d = 1.000e-15\n",
      "\t\tRestarted 3.74073246335e-06 > 0.999 * 1.17980773599e-06\n",
      "\tItn 35: NLL = 7.142859e+01, r = 7.608e-08,  s = 1.496e-07, eps_p = 3.785e-15, eps_d = 1.000e-15\n",
      "\t\tRestarted 3.72472442068e-06 > 0.999 * 1.18098872471e-06\n",
      "\tItn 36: NLL = 6.493334e+01, r = 6.998e-08,  s = 1.494e-07, eps_p = 3.762e-15, eps_d = 1.000e-15\n",
      "\t\tRestarted 3.72204542233e-06 > 0.999 * 1.18217089561e-06\n",
      "\tItn 37: NLL = 6.382190e+01, r = 6.940e-08,  s = 1.493e-07, eps_p = 3.758e-15, eps_d = 1.000e-15\n",
      "\t\tRestarted 3.70645793466e-06 > 0.999 * 1.18335424986e-06\n",
      "\tItn 38: NLL = 5.736655e+01, r = 6.730e-08,  s = 1.490e-07, eps_p = 3.734e-15, eps_d = 1.000e-15\n",
      "\t\tRestarted 3.70382855125e-06 > 0.999 * 1.18453878865e-06\n",
      "\tItn 39: NLL = 5.626170e+01, r = 6.731e-08,  s = 1.490e-07, eps_p = 3.731e-15, eps_d = 1.000e-15\n",
      "Final NLL = 56.2617004982\n",
      "DeltaNLL = -415.461409974\n",
      "Fidelity contribution = 3.22439814226e-12, TV contribution = 672.867722856\n"
     ]
    }
   ],
   "source": [
    "startg = myg_pad.ravel() + 1E-1*np.random.randn(model.N_pad)\n",
    "showNLLComponents(startg, phi_noise)\n",
    "nll0 = admm.computeNLL(phi_noise.ravel(), startg)\n",
    "\n",
    "gmin = admm.solve(phi_noise.ravel(), startg,\n",
    "                  itnlim = 40, iprint = 20, eps_abs = 1E-16, eps_rel=1E-16)\n",
    "\n",
    "nll1 = admm.computeNLL(phi_noise.ravel(), gmin)\n",
    "print(\"DeltaNLL = {}\".format(nll1 - nll0))\n",
    "showNLLComponents(gmin, phi_noise)"
   ]
  },
  {
   "cell_type": "code",
   "execution_count": 165,
   "metadata": {
    "collapsed": false
   },
   "outputs": [],
   "source": [
    "decon = TVDeconvolver(mykernel, admm.mu)"
   ]
  },
  {
   "cell_type": "code",
   "execution_count": 166,
   "metadata": {
    "collapsed": true
   },
   "outputs": [
    {
     "name": "stdout",
     "output_type": "stream",
     "text": [
      "Initial cost = 4.873164e-04\n",
      "\tItn 0: cost = 4.528449e-04, r = 1.691e-02, s = 2.255e-07 rho = 0.01\n",
      "\tItn 1: cost = 4.496850e-04, r = 4.236e-03, s = 2.179e-07 rho = 0.02\n",
      "\tItn 2: cost = 4.470970e-04, r = 1.060e-03, s = 2.113e-07 rho = 0.04\n",
      "\tItn 3: cost = 4.454235e-04, r = 2.651e-04, s = 2.074e-07 rho = 0.08\n",
      "\tItn 4: cost = 4.445583e-04, r = 6.629e-05, s = 2.056e-07 rho = 0.16\n",
      "\tItn 5: cost = 4.441669e-04, r = 1.657e-05, s = 2.050e-07 rho = 0.32\n",
      "\tItn 6: cost = 4.439969e-04, r = 4.144e-06, s = 2.049e-07 rho = 0.64\n",
      "\tItn 7: cost = 4.439216e-04, r = 1.036e-06, s = 2.048e-07 rho = 1.28\n",
      "\tItn 8: cost = 4.439216e-04, r = 1.036e-06, s = 2.048e-07 rho = 1.28\n",
      "\tItn 9: cost = 4.439216e-04, r = 1.036e-06, s = 2.048e-07 rho = 1.28\n",
      "\tItn 10: cost = 4.439216e-04, r = 1.036e-06, s = 2.048e-07 rho = 1.28\n",
      "\tItn 11: cost = 4.439216e-04, r = 1.036e-06, s = 2.048e-07 rho = 1.28\n",
      "\tItn 12: cost = 4.439216e-04, r = 1.036e-06, s = 2.048e-07 rho = 1.28\n",
      "\tItn 13: cost = 4.439216e-04, r = 1.036e-06, s = 2.048e-07 rho = 1.28\n",
      "\tItn 14: cost = 4.439216e-04, r = 1.036e-06, s = 2.048e-07 rho = 1.28\n",
      "\tItn 15: cost = 4.439216e-04, r = 1.036e-06, s = 2.048e-07 rho = 1.28\n",
      "\tItn 16: cost = 4.439216e-04, r = 1.036e-06, s = 2.048e-07 rho = 1.28\n",
      "\tItn 17: cost = 4.439216e-04, r = 1.036e-06, s = 2.048e-07 rho = 1.28\n",
      "\tItn 18: cost = 4.439216e-04, r = 1.036e-06, s = 2.048e-07 rho = 1.28\n",
      "\tItn 19: cost = 4.439216e-04, r = 1.036e-06, s = 2.048e-07 rho = 1.28\n",
      "\tItn 20: cost = 4.439216e-04, r = 1.036e-06, s = 2.048e-07 rho = 1.28\n",
      "\tItn 21: cost = 4.439216e-04, r = 1.036e-06, s = 2.048e-07 rho = 1.28\n",
      "\tItn 22: cost = 4.439216e-04, r = 1.036e-06, s = 2.048e-07 rho = 1.28\n",
      "\tItn 23: cost = 4.439216e-04, r = 1.036e-06, s = 2.048e-07 rho = 1.28\n",
      "\tItn 24: cost = 4.439216e-04, r = 1.036e-06, s = 2.048e-07 rho = 1.28\n",
      "\tItn 25: cost = 4.439216e-04, r = 1.036e-06, s = 2.048e-07 rho = 1.28\n",
      "\tItn 26: cost = 4.439216e-04, r = 1.036e-06, s = 2.048e-07 rho = 1.28\n",
      "\tItn 27: cost = 4.439216e-04, r = 1.036e-06, s = 2.048e-07 rho = 1.28\n",
      "\tItn 28: cost = 4.439216e-04, r = 1.036e-06, s = 2.048e-07 rho = 1.28\n",
      "\tItn 29: cost = 4.439216e-04, r = 1.036e-06, s = 2.048e-07 rho = 1.28\n",
      "\tItn 30: cost = 4.439216e-04, r = 1.036e-06, s = 2.048e-07 rho = 1.28\n",
      "\tItn 31: cost = 4.439216e-04, r = 1.036e-06, s = 2.048e-07 rho = 1.28\n",
      "\tItn 32: cost = 4.439216e-04, r = 1.036e-06, s = 2.048e-07 rho = 1.28\n",
      "\tItn 33: cost = 4.439216e-04, r = 1.036e-06, s = 2.048e-07 rho = 1.28\n",
      "\tItn 34: cost = 4.439216e-04, r = 1.036e-06, s = 2.048e-07 rho = 1.28\n",
      "\tItn 35: cost = 4.439216e-04, r = 1.036e-06, s = 2.048e-07 rho = 1.28\n",
      "\tItn 36: cost = 4.439216e-04, r = 1.036e-06, s = 2.048e-07 rho = 1.28\n",
      "\tItn 37: cost = 4.439216e-04, r = 1.036e-06, s = 2.048e-07 rho = 1.28\n",
      "\tItn 38: cost = 4.439216e-04, r = 1.036e-06, s = 2.048e-07 rho = 1.28\n",
      "\tItn 39: cost = 4.439216e-04, r = 1.036e-06, s = 2.048e-07 rho = 1.28\n",
      "Iteration limit reached\n"
     ]
    }
   ],
   "source": [
    "gsol0 = decon.deconvolve(phi_noise.ravel(), startg, iprint = 2, itnlim = 40, eps_abs = 1E-16, eps_rel=1E-16)"
   ]
  },
  {
   "cell_type": "code",
   "execution_count": 167,
   "metadata": {
    "collapsed": false
   },
   "outputs": [
    {
     "data": {
      "text/plain": [
       "<matplotlib.colorbar.Colorbar at 0x7fb4e6713fd0>"
      ]
     },
     "execution_count": 167,
     "metadata": {},
     "output_type": "execute_result"
    },
    {
     "data": {
      "image/png": "[encoded data removed]",
      "text/plain": [
       "<matplotlib.figure.Figure at 0x7fb4e6ac8a50>"
      ]
     },
     "metadata": {},
     "output_type": "display_data"
    }
   ],
   "source": [
    "plt.matshow(decon.M.dot(gsol0).reshape(10,10)-phi_noise);plt.colorbar()"
   ]
  },
  {
   "cell_type": "code",
   "execution_count": 168,
   "metadata": {
    "collapsed": false
   },
   "outputs": [
    {
     "data": {
      "text/plain": [
       "<matplotlib.colorbar.Colorbar at 0x7fb4e6426110>"
      ]
     },
     "execution_count": 168,
     "metadata": {},
     "output_type": "execute_result"
    },
    {
     "data": {
      "image/png": "[encoded data removed]",
      "text/plain": [
       "<matplotlib.figure.Figure at 0x7fb4e707c250>"
      ]
     },
     "metadata": {},
     "output_type": "display_data"
    },
    {
     "data": {
      "image/png": "[encoded data removed]",
      "text/plain": [
       "<matplotlib.figure.Figure at 0x7fb4e652f110>"
      ]
     },
     "metadata": {},
     "output_type": "display_data"
    }
   ],
   "source": [
    "plt.matshow(gsol0.reshape(10,10));plt.colorbar()\n",
    "plt.matshow(gmin.reshape(10,10));plt.colorbar()"
   ]
  },
  {
   "cell_type": "code",
   "execution_count": 157,
   "metadata": {
    "collapsed": false
   },
   "outputs": [
    {
     "data": {
      "text/plain": [
       "<matplotlib.colorbar.Colorbar at 0x7fb4e6bc2550>"
      ]
     },
     "execution_count": 157,
     "metadata": {},
     "output_type": "execute_result"
    },
    {
     "data": {
      "image/png": "[encoded data removed]",
      "text/plain": [
       "<matplotlib.figure.Figure at 0x7fb4e6ae3350>"
      ]
     },
     "metadata": {},
     "output_type": "display_data"
    }
   ],
   "source": [
    "gdif = (gsol0.reshape(model.Ly_pad,-1)-myg)\n",
    "plt.matshow(gdif);plt.colorbar()"
   ]
  },
  {
   "cell_type": "code",
   "execution_count": 13,
   "metadata": {
    "collapsed": false
   },
   "outputs": [
    {
     "data": {
      "text/plain": [
       "<matplotlib.colorbar.Colorbar at 0x7fe43125efd0>"
      ]
     },
     "execution_count": 13,
     "metadata": {},
     "output_type": "execute_result"
    },
    {
     "data": {
      "image/png": "[encoded data removed]",
      "text/plain": [
       "<matplotlib.figure.Figure at 0x7fe4311947d0>"
      ]
     },
     "metadata": {},
     "output_type": "display_data"
    }
   ],
   "source": [
    "fig, axes = plt.subplots(nrows=1, ncols=3, figsize=(10,4))\n",
    "gmin_sq = gmin.reshape(model.Ly_pad,-1)\n",
    "minl = 0# min(gmin.min(), myg_pad.min())\n",
    "maxl = max(gmin.max(), myg_pad.max())\n",
    "im = axes[0].matshow(gmin_sq,vmin=minl, vmax=maxl)\n",
    "axes[0].set_title('Optimal g', fontsize=18)\n",
    "im = axes[1].matshow(myg_pad,vmin=minl, vmax=maxl)\n",
    "axes[1].set_title('True g', fontsize=18)\n",
    "im = axes[2].matshow(gmin_sq - myg_pad, vmin=minl, vmax=maxl)\n",
    "axes[2].set_title('Difference', fontsize=18)\n",
    "cax, kw = mpl.colorbar.make_axes([ax for ax in axes.flat])\n",
    "plt.colorbar(im, cax=cax, **kw)"
   ]
  },
  {
   "cell_type": "code",
   "execution_count": 14,
   "metadata": {
    "collapsed": false
   },
   "outputs": [
    {
     "data": {
      "text/plain": [
       "0.17225633046331371"
      ]
     },
     "execution_count": 14,
     "metadata": {},
     "output_type": "execute_result"
    },
    {
     "data": {
      "image/png": "[encoded data removed]",
      "text/plain": [
       "<matplotlib.figure.Figure at 0x7f18c01ca390>"
      ]
     },
     "metadata": {},
     "output_type": "display_data"
    }
   ],
   "source": [
    "fig, axes = plt.subplots(nrows=1,ncols=2, figsize=(10,4))\n",
    "res = model.residuals\n",
    "hist, bins = np.histogram(res, bins=19)\n",
    "axes[0].plot(0.5*(bins[1:]+bins[:-1]), hist, '-')\n",
    "im = axes[1].matshow(res.reshape(model.Ly,-1))\n",
    "cax, kw = mpl.colorbar.make_axes(axes[1])\n",
    "plt.colorbar(im, cax = cax, **kw)\n",
    "np.mean(res)/model.sigma"
   ]
  },
  {
   "cell_type": "code",
   "execution_count": 10,
   "metadata": {
    "collapsed": true
   },
   "outputs": [],
   "source": [
    "from pysquid.tests.kernelTests import testConvolution, testTranspose"
   ]
  },
  {
   "cell_type": "code",
   "execution_count": 12,
   "metadata": {
    "collapsed": false
   },
   "outputs": [],
   "source": [
    "err, kertest, Mtest = testConvolution(GaussianKernel, psf_params = pdict['psf_params'], shape = model._shape, \n",
    "                padding = model._padding)"
   ]
  },
  {
   "cell_type": "code",
   "execution_count": 17,
   "metadata": {
    "collapsed": false
   },
   "outputs": [
    {
     "name": "stdout",
     "output_type": "stream",
     "text": [
      "(0.0127572104538+0j)\n",
      "0.0350084103009\n"
     ]
    }
   ],
   "source": [
    "print(np.sum(kertest.crop(kertest.MPSF_k*kertest.MPSF_k.conj())))\n",
    "print((Mtest.T.dot(Mtest)).trace())"
   ]
  },
  {
   "cell_type": "code",
   "execution_count": 20,
   "metadata": {
    "collapsed": false
   },
   "outputs": [],
   "source": [
    "mtmfft = np.sum(kertest.crop(kertest.MPSF_k*kertest.MPSF_k.conj())).real\n",
    "mtm = (Mtest.T.dot(Mtest)).trace()"
   ]
  },
  {
   "cell_type": "code",
   "execution_count": 27,
   "metadata": {
    "collapsed": false
   },
   "outputs": [],
   "source": [
    "s, u = np.linalg.eigh(Mtest.T.dot(Mtest))"
   ]
  },
  {
   "cell_type": "code",
   "execution_count": 39,
   "metadata": {
    "collapsed": false
   },
   "outputs": [
    {
     "data": {
      "text/plain": [
       "<matplotlib.image.AxesImage at 0x7faebc435c50>"
      ]
     },
     "execution_count": 39,
     "metadata": {},
     "output_type": "execute_result"
    },
    {
     "data": {
      "image/png": "[encoded data removed]",
      "text/plain": [
       "<matplotlib.figure.Figure at 0x7faebcc928d0>"
      ]
     },
     "metadata": {},
     "output_type": "display_data"
    }
   ],
   "source": [
    "plt.matshow(u[:,-10].reshape(kertest._padshape))"
   ]
  },
  {
   "cell_type": "code",
   "execution_count": 62,
   "metadata": {
    "collapsed": false
   },
   "outputs": [],
   "source": [
    "Cmask = np.zeros_like(kertest.MPSF_k)\n",
    "Cmask[kertest.py:kertest.py+kertest.Ly,\n",
    "      kertest.px:kertest.px+kertest.Lx] = 1."
   ]
  },
  {
   "cell_type": "code",
   "execution_count": 70,
   "metadata": {
    "collapsed": false
   },
   "outputs": [
    {
     "data": {
      "text/plain": [
       "0.022573469065126875"
      ]
     },
     "execution_count": 70,
     "metadata": {},
     "output_type": "execute_result"
    }
   ],
   "source": [
    "np.sum(np.abs(kertest.MPSF_k.conj()*kertest.fftw.fft(Cmask*kertest.fftw.ifft(kertest.MPSF_k))).reshape(*kertest.MPSF_k.shape))"
   ]
  },
  {
   "cell_type": "code",
   "execution_count": 78,
   "metadata": {
    "collapsed": false
   },
   "outputs": [
    {
     "data": {
      "text/plain": [
       "array([  0.28838813, -60.92148904])"
      ]
     },
     "execution_count": 78,
     "metadata": {},
     "output_type": "execute_result"
    }
   ],
   "source": [
    "np.polyfit(np.arange(len(s))[-25:], np.log(s[-25:]), 1)"
   ]
  },
  {
   "cell_type": "code",
   "execution_count": 47,
   "metadata": {
    "collapsed": false
   },
   "outputs": [
    {
     "data": {
      "text/plain": [
       "[<matplotlib.lines.Line2D at 0x7faeb4e030d0>]"
      ]
     },
     "execution_count": 47,
     "metadata": {},
     "output_type": "execute_result"
    },
    {
     "data": {
      "image/png": "[encoded data removed]",
      "text/plain": [
       "<matplotlib.figure.Figure at 0x7faeb4ee7150>"
      ]
     },
     "metadata": {},
     "output_type": "display_data"
    }
   ],
   "source": [
    "plt.plot(s);plt.yscale('log')\n",
    "plt.plot((kertest.crop(kertest.MPSF_k*kertest.MPSF_k.conj())).real.ravel()[::-1])"
   ]
  },
  {
   "cell_type": "code",
   "execution_count": 41,
   "metadata": {
    "collapsed": false
   },
   "outputs": [
    {
     "data": {
      "text/plain": [
       "(5.7530182462558143e-18, 4.5845094111665373e-18)"
      ]
     },
     "execution_count": 41,
     "metadata": {},
     "output_type": "execute_result"
    }
   ],
   "source": [
    "testTranspose(GaussianKernel, psf_params = pdict['psf_params'], shape = model._shape, \n",
    "                padding = model._padding)"
   ]
  },
  {
   "cell_type": "code",
   "execution_count": 99,
   "metadata": {
    "collapsed": false
   },
   "outputs": [],
   "source": [
    "Ly, Lx = model._shape\n",
    "py, px = model._padding\n",
    "foo = np.zeros((2*(Ly+2*py), 2*(Lx+2*px)))\n",
    "foo[py:Ly+py, px:Lx+px] = np.ones((Ly, Lx))"
   ]
  },
  {
   "cell_type": "code",
   "execution_count": 111,
   "metadata": {
    "collapsed": false
   },
   "outputs": [],
   "source": [
    "gg = np.random.randn(model.N_pad).reshape(*model._padshape)"
   ]
  },
  {
   "cell_type": "code",
   "execution_count": 128,
   "metadata": {
    "collapsed": false
   },
   "outputs": [
    {
     "data": {
      "text/plain": [
       "<matplotlib.image.AxesImage at 0x7f053d5db9d0>"
      ]
     },
     "execution_count": 128,
     "metadata": {},
     "output_type": "execute_result"
    },
    {
     "data": {
      "image/png": "[encoded data removed]",
      "text/plain": [
       "<matplotlib.figure.Figure at 0x7f053d9f2490>"
      ]
     },
     "metadata": {},
     "output_type": "display_data"
    }
   ],
   "source": [
    "bar = np.fft.ifftn(np.fft.fftn(foo)*model.kernel.MPSF_k * np.fft.fftn(gg, s=model.kernel.fftw.shape)).real\n",
    "plt.matshow(bar)"
   ]
  },
  {
   "cell_type": "code",
   "execution_count": 126,
   "metadata": {
    "collapsed": false
   },
   "outputs": [
    {
     "data": {
      "text/plain": [
       "<matplotlib.image.AxesImage at 0x7f053d743a10>"
      ]
     },
     "execution_count": 126,
     "metadata": {},
     "output_type": "execute_result"
    },
    {
     "data": {
      "image/png": "[encoded data removed]",
      "text/plain": [
       "<matplotlib.figure.Figure at 0x7f053d8709d0>"
      ]
     },
     "metadata": {},
     "output_type": "display_data"
    }
   ],
   "source": [
    "plt.matshow(model.kernel.applyM(gg).real)"
   ]
  },
  {
   "cell_type": "code",
   "execution_count": 116,
   "metadata": {
    "collapsed": false
   },
   "outputs": [
    {
     "data": {
      "text/plain": [
       "<matplotlib.image.AxesImage at 0x7f053db73b90>"
      ]
     },
     "execution_count": 116,
     "metadata": {},
     "output_type": "execute_result"
    },
    {
     "data": {
      "image/png": "[encoded data removed]",
      "text/plain": [
       "<matplotlib.figure.Figure at 0x7f053dc50310>"
      ]
     },
     "metadata": {},
     "output_type": "display_data"
    }
   ],
   "source": [
    "plt.matshow(model.kernel._padFlux)"
   ]
  },
  {
   "cell_type": "code",
   "execution_count": 122,
   "metadata": {
    "collapsed": false
   },
   "outputs": [
    {
     "data": {
      "text/plain": [
       "<matplotlib.image.AxesImage at 0x7f053d897790>"
      ]
     },
     "execution_count": 122,
     "metadata": {},
     "output_type": "execute_result"
    },
    {
     "data": {
      "image/png": "[encoded data removed]",
      "text/plain": [
       "<matplotlib.figure.Figure at 0x7f053d9471d0>"
      ]
     },
     "metadata": {},
     "output_type": "display_data"
    }
   ],
   "source": [
    "plt.matshow(np.fft.ifftn(np.fft.fftn(gg, s=model.kernel.fftw.shape)).real)"
   ]
  }
 ],
 "metadata": {
  "kernelspec": {
   "display_name": "Python 2",
   "language": "python",
   "name": "python2"
  },
  "language_info": {
   "codemirror_mode": {
    "name": "ipython",
    "version": 2
   },
   "file_extension": ".py",
   "mimetype": "text/x-python",
   "name": "python",
   "nbconvert_exporter": "python",
   "pygments_lexer": "ipython2",
   "version": "2.7.11"
  }
 },
 "nbformat": 4,
 "nbformat_minor": 0
}
